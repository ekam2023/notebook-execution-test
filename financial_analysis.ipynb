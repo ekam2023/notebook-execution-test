{
  "cells": [
    {
     "cell_type": "markdown",
     "metadata": {},
     "source": [
       "# Financial Analysis Functions\n",
       "\n",
       "This notebook contains executable functions for financial data analysis."
      ]
    },
    {
      "cell_type": "code",
      "execution_count": null,
      "metadata": {},
      "outputs": [],
      "source": [
        "import json\n",
        "from datetime import datetime\n",
        "import math\n"
      ]
    },
    {
      "cell_type": "code",
      "execution_count": null,
      "metadata": {},
      "outputs": [],
      "source": [
        "def get_stock_price(ticker=\"AAPL\"):\n",
        "    \"\"\"\n",
        "    Get current stock price and basic info\n",
        "    \"\"\"\n",
        "    result = {\n",
        "        \"ticker\": ticker,\n",
        "        \"current_price\": 175.84,\n",
        "        \"company_name\": \"Apple Inc.\",\n",
        "        \"market_cap\": 2740000000000,\n",
        "        \"pe_ratio\": 28.5,\n",
        "        \"52_week_high\": 199.62,\n",
        "        \"52_week_low\": 164.08\n",
        "    }\n",
        "    return json.dumps(result, indent=2)\n"
      ]
    },
    {
      "cell_type": "code",
      "execution_count": null,
      "metadata": {},
      "outputs": [],
      "source": [
        "def analyze_stock_returns(ticker=\"AAPL\", period=\"1y\"):\n",
        "    \"\"\"\n",
        "    Analyze stock returns and volatility\n",
        "    \"\"\"\n",
        "    result = {\n",
        "        \"ticker\": ticker,\n",
        "        \"period\": period,\n",
        "        \"total_return\": 12.45,\n",
        "        \"annualized_return\": 15.23,\n",
        "        \"volatility\": 22.87,\n",
        "        \"sharpe_ratio\": 0.67,\n",
        "        \"max_daily_gain\": 8.92,\n",
        "        \"max_daily_loss\": -6.43,\n",
        "        \"trading_days\": 252\n",
        "    }\n",
        "    return json.dumps(result, indent=2)\n"
      ]
    },
    {
      "cell_type": "code",
      "execution_count": null,
      "metadata": {},
      "outputs": [],
      "source": [
        "def calculate_portfolio_risk(tickers=\"AAPL,GOOGL,MSFT\", period=\"1y\"):\n",
        "    \"\"\"\n",
        "    Calculate portfolio risk metrics\n",
        "    \"\"\"\n",
        "    ticker_list = tickers.split(',') if isinstance(tickers, str) else tickers\n",
        "    result = {\n",
        "        \"tickers\": ticker_list,\n",
        "        \"period\": period,\n",
        "        \"expected_annual_return\": 18.45,\n",
        "        \"annual_volatility\": 19.23,\n",
        "        \"sharpe_ratio\": 0.96,\n",
        "        \"value_at_risk_95\": -2.87,\n",
        "        \"correlation_matrix\": {\n",
        "            ticker_list[0]: {ticker_list[0]: 1.0, ticker_list[1]: 0.72} if len(ticker_list) > 1 else {ticker_list[0]: 1.0}\n",
        "        }\n",
        "    }\n",
        "    return json.dumps(result, indent=2)\n"
      ]
    }
  ],
  "metadata": {
    "kernelspec": {
      "display_name": "Python 3",
      "language": "python",
      "name": "python3"
    },
    "language_info": {
      "codemirror_mode": {
        "name": "ipython",
        "version": 3
      },
      "file_extension": ".py",
      "mimetype": "text/x-python",
      "name": "python",
      "nbconvert_exporter": "python",
      "pygments_lexer": "ipython3",
      "version": "3.8.0"
    }
  },
  "nbformat": 4,
  "nbformat_minor": 4
}